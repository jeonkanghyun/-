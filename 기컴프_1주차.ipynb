{
  "nbformat": 4,
  "nbformat_minor": 0,
  "metadata": {
    "colab": {
      "name": "기컴프 1주차",
      "provenance": [],
      "collapsed_sections": [],
      "authorship_tag": "ABX9TyO+O6kQ45cc5YkCnvyM41Cj",
      "include_colab_link": true
    },
    "kernelspec": {
      "name": "python3",
      "display_name": "Python 3"
    },
    "language_info": {
      "name": "python"
    }
  },
  "cells": [
    {
      "cell_type": "markdown",
      "metadata": {
        "id": "view-in-github",
        "colab_type": "text"
      },
      "source": [
        "<a href=\"https://colab.research.google.com/github/jeonkanghyun/-/blob/main/%EA%B8%B0%EC%BB%B4%ED%94%84_1%EC%A3%BC%EC%B0%A8.ipynb\" target=\"_parent\"><img src=\"https://colab.research.google.com/assets/colab-badge.svg\" alt=\"Open In Colab\"/></a>"
      ]
    },
    {
      "cell_type": "code",
      "execution_count": null,
      "metadata": {
        "id": "Ju_zJobvHIaY"
      },
      "outputs": [],
      "source": [
        "print(\"hello world\")   "
      ]
    },
    {
      "cell_type": "code",
      "source": [
        "print(\"hello world\")"
      ],
      "metadata": {
        "id": "9kMnkDRCKRNh"
      },
      "execution_count": null,
      "outputs": []
    }
  ]
}