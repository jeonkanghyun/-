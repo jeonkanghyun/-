{
  "nbformat": 4,
  "nbformat_minor": 0,
  "metadata": {
    "colab": {
      "name": "2week.ipynb",
      "provenance": [],
      "collapsed_sections": [],
      "mount_file_id": "1YuMgSJA1rNc9LfopRTGU4Qxx8WBRHQVh",
      "authorship_tag": "ABX9TyN0sR+vo3SOh05FIiqS1/y2",
      "include_colab_link": true
    },
    "kernelspec": {
      "name": "python3",
      "display_name": "Python 3"
    },
    "language_info": {
      "name": "python"
    }
  },
  "cells": [
    {
      "cell_type": "markdown",
      "metadata": {
        "id": "view-in-github",
        "colab_type": "text"
      },
      "source": [
        "<a href=\"https://colab.research.google.com/github/jeonkanghyun/-/blob/main/2week.ipynb\" target=\"_parent\"><img src=\"https://colab.research.google.com/assets/colab-badge.svg\" alt=\"Open In Colab\"/></a>"
      ]
    },
    {
      "cell_type": "code",
      "execution_count": null,
      "metadata": {
        "colab": {
          "base_uri": "https://localhost:8080/"
        },
        "id": "KXo1LUfu2ztB",
        "outputId": "40cb7631-c0cf-4459-8244-14e405fd9a3c"
      },
      "outputs": [
        {
          "output_type": "stream",
          "name": "stdout",
          "text": [
            "hello world\n"
          ]
        }
      ],
      "source": [
        "# hello_1.py\n",
        "print('hello world')"
      ]
    },
    {
      "cell_type": "code",
      "source": [
        "# hello_2.py\n",
        "print('hello world!')\n",
        "print('hello world!')"
      ],
      "metadata": {
        "colab": {
          "base_uri": "https://localhost:8080/"
        },
        "id": "uMfcsmSD4BSs",
        "outputId": "64fb4682-77b9-49c4-cf40-046fafe286eb"
      },
      "execution_count": null,
      "outputs": [
        {
          "output_type": "stream",
          "name": "stdout",
          "text": [
            "hello world!\n",
            "hello world!\n"
          ]
        }
      ]
    },
    {
      "cell_type": "code",
      "source": [
        "#hello_3.py\n",
        "def DoubleHello():\n",
        "  print('hello world!')\n",
        "  print('hello world!')\n",
        "\n",
        "DoubleHello()  "
      ],
      "metadata": {
        "colab": {
          "base_uri": "https://localhost:8080/"
        },
        "id": "WE-EJaLg4eC7",
        "outputId": "be9b87f1-79d5-4005-a4fb-8eccf98d9e02"
      },
      "execution_count": null,
      "outputs": [
        {
          "output_type": "stream",
          "name": "stdout",
          "text": [
            "hello world!\n",
            "hello world!\n"
          ]
        }
      ]
    },
    {
      "cell_type": "code",
      "source": [
        "!pip install import_ipynb"
      ],
      "metadata": {
        "id": "f6ZCYsZ25tqr",
        "colab": {
          "base_uri": "https://localhost:8080/"
        },
        "outputId": "03d72812-1295-4cf3-8abe-a98eb32d1242"
      },
      "execution_count": null,
      "outputs": [
        {
          "output_type": "stream",
          "name": "stdout",
          "text": [
            "Collecting import_ipynb\n",
            "  Downloading import-ipynb-0.1.3.tar.gz (4.0 kB)\n",
            "Building wheels for collected packages: import-ipynb\n",
            "  Building wheel for import-ipynb (setup.py) ... \u001b[?25l\u001b[?25hdone\n",
            "  Created wheel for import-ipynb: filename=import_ipynb-0.1.3-py3-none-any.whl size=2975 sha256=db1b99453322b644e59073d65d644ec43d35252b5a91655768b7a6e9a2a321c8\n",
            "  Stored in directory: /root/.cache/pip/wheels/b1/5e/dc/79780689896a056199b0b9f24471e3ee184fbd816df355d5f0\n",
            "Successfully built import-ipynb\n",
            "Installing collected packages: import-ipynb\n",
            "Successfully installed import-ipynb-0.1.3\n"
          ]
        }
      ]
    },
    {
      "cell_type": "code",
      "source": [
        "cd /content/drive/MyDrive/기컴 2주차"
      ],
      "metadata": {
        "colab": {
          "base_uri": "https://localhost:8080/"
        },
        "id": "6Wtl_Uh98ieB",
        "outputId": "f7c91bdd-a979-4e76-dde5-580c4e3d4126"
      },
      "execution_count": null,
      "outputs": [
        {
          "output_type": "stream",
          "name": "stdout",
          "text": [
            "/content/drive/MyDrive/기컴 2주차\n"
          ]
        }
      ]
    },
    {
      "cell_type": "code",
      "source": [
        "#hello_4.py\n",
        "import  import_ipynb\n",
        "import myfunction\n",
        "\n",
        "myfunction.DoubleHello()\n"
      ],
      "metadata": {
        "colab": {
          "base_uri": "https://localhost:8080/"
        },
        "id": "q20VXc4v7y8I",
        "outputId": "4b485d5e-aba7-449b-af42-516b68324fa0"
      },
      "execution_count": null,
      "outputs": [
        {
          "output_type": "stream",
          "name": "stdout",
          "text": [
            "Hello World\n",
            "Hello World\n"
          ]
        }
      ]
    },
    {
      "cell_type": "code",
      "source": [
        "import math\n",
        "\n",
        "ceil_result = math.ceil(3.14)\n",
        "print(ceil_result)\n",
        "                   "
      ],
      "metadata": {
        "colab": {
          "base_uri": "https://localhost:8080/"
        },
        "id": "eJsTljTo72Fo",
        "outputId": "cd6e9879-4624-47b4-e9f1-e63199c4f007"
      },
      "execution_count": null,
      "outputs": [
        {
          "output_type": "stream",
          "name": "stdout",
          "text": [
            "4\n"
          ]
        }
      ]
    }
  ]
}